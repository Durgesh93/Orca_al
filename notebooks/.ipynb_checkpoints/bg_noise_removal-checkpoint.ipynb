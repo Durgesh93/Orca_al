{
 "cells": [
  {
   "cell_type": "code",
   "execution_count": null,
   "metadata": {},
   "outputs": [],
   "source": [
    "import os\n",
    "import csv\n",
    "import librosa\n",
    "import librosa.display\n",
    "import torch\n",
    "import numpy as np\n",
    "import matplotlib.pyplot as plt\n",
    "import IPython.display as ipd\n",
    "import cv2\n",
    "import scipy\n",
    "from skimage.restoration import (denoise_wavelet, estimate_sigma)\n",
    "import noise_reduce as nr"
   ]
  },
  {
   "cell_type": "code",
   "execution_count": null,
   "metadata": {},
   "outputs": [],
   "source": [
    "fname   =  '/data/durgesh/orca206/orca_al/data_source/podcastR2_mini/1562340736_0006_0017.wav'\n",
    "fs     = librosa.get_samplerate(fname)\n",
    "y, fs = librosa.load(fname,fs)\n",
    "x     = np.arange(0,len(y))/fs\n",
    "\n",
    "print('Audio duration ={} seconds,Sampling rate={},n_samples={}'.format(len(y)/fs,fs,len(y)))\n",
    "ipd.Audio(y,rate=fs)"
   ]
  }
 ],
 "metadata": {
  "kernelspec": {
   "display_name": "Python 3",
   "language": "python",
   "name": "python3"
  },
  "language_info": {
   "codemirror_mode": {
    "name": "ipython",
    "version": 3
   },
   "file_extension": ".py",
   "mimetype": "text/x-python",
   "name": "python",
   "nbconvert_exporter": "python",
   "pygments_lexer": "ipython3",
   "version": "3.5.2"
  }
 },
 "nbformat": 4,
 "nbformat_minor": 4
}
