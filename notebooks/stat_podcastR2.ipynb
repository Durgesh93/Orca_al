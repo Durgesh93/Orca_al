{
 "cells": [
  {
   "cell_type": "code",
   "execution_count": 27,
   "metadata": {},
   "outputs": [],
   "source": [
    "import os\n",
    "import glob\n",
    "import soundfile as sf\n",
    "import datetime\n",
    "from intervaltree import IntervalTree,Interval\n",
    "import csv\n",
    "from fractions import Fraction"
   ]
  },
  {
   "cell_type": "code",
   "execution_count": 28,
   "metadata": {},
   "outputs": [],
   "source": [
    "root_folder        = os.path.join(os.sep,'data','naveen','msda206','orca_project','orca_al','data_source','podcastR2')\n",
    "all_train_dev_wavs = glob.glob(os.path.join(root_folder,'train_data','wav','*.wav'))\n",
    "train_anno_path    = os.path.join(root_folder,'train_data','train.tsv')\n",
    "dev_anno_path      = os.path.join(root_folder,'train_data','dev.tsv')"
   ]
  },
  {
   "cell_type": "code",
   "execution_count": 29,
   "metadata": {},
   "outputs": [],
   "source": [
    "def get_positive_duration_r2(labelfile):\n",
    "    interval_dict = dict()\n",
    "    with open(labelfile) as f:\n",
    "        for i,(wav,start,dur,loc,date,data_source,data_source_id) in enumerate(csv.reader(f, delimiter='\\t')):\n",
    "            if i == 0 or float(dur) <= 0.01: continue\n",
    "            start = float(start)\n",
    "            dur   = float(dur)\n",
    "            end   = start+dur\n",
    "            if wav not in interval_dict.keys():\n",
    "                interval_dict[wav]=IntervalTree()\n",
    "            interval_dict[wav].add(Interval(start,end,dur))\n",
    "    tot_pos_dur =0\n",
    "    for wav,interval_tree in interval_dict.items():\n",
    "        for intvl in interval_tree:\n",
    "            tot_pos_dur+=intvl.data\n",
    "\n",
    "    return tot_pos_dur"
   ]
  },
  {
   "cell_type": "code",
   "execution_count": 30,
   "metadata": {},
   "outputs": [
    {
     "name": "stdout",
     "output_type": "stream",
     "text": [
      "wav=1562344334_0005.wav sample rate:20000, dur:61.25 seconds\n",
      "wav=1562344334_0006.wav sample rate:20000, dur:61.25 seconds\n",
      "wav=1562344334_000a.wav sample rate:20000, dur:61.25 seconds\n",
      "wav=1562344334_001c.wav sample rate:20000, dur:61.25 seconds\n",
      "wav=1562337136_0010.wav sample rate:20000, dur:61.25 seconds\n",
      "wav=1562340736_0006.wav sample rate:20000, dur:61.25 seconds\n",
      "wav=1562340736_0010.wav sample rate:20000, dur:61.25 seconds\n",
      "wav=1562344334_0002.wav sample rate:20000, dur:61.25 seconds\n",
      "wav=1562340736_0001.wav sample rate:20000, dur:61.25 seconds\n",
      "wav=1562344334_0003.wav sample rate:20000, dur:61.25 seconds\n",
      "wav=1562337136_001a.wav sample rate:20000, dur:61.25 seconds\n",
      "wav=1562344334_000d.wav sample rate:20000, dur:61.25 seconds\n",
      "wav=1562340736_0018.wav sample rate:20000, dur:61.25 seconds\n",
      "wav=1562340736_000c.wav sample rate:20000, dur:61.25 seconds\n",
      "wav=1562337136_0006.wav sample rate:20000, dur:61.25 seconds\n",
      "wav=1562337136_000b.wav sample rate:20000, dur:61.25 seconds\n",
      "wav=1562340736_0009.wav sample rate:20000, dur:61.25 seconds\n",
      "wav=1562337136_000d.wav sample rate:20000, dur:61.25 seconds\n",
      "wav=1562340736_0017.wav sample rate:20000, dur:61.25 seconds\n",
      "wav=1562337136_0017.wav sample rate:20000, dur:61.25 seconds\n",
      "wav=1562337136_000a.wav sample rate:20000, dur:61.25 seconds\n",
      "wav=1562340736_001c.wav sample rate:20000, dur:61.25 seconds\n",
      "wav=1562337136_0019.wav sample rate:20000, dur:61.25 seconds\n",
      "wav=1562340736_0012.wav sample rate:20000, dur:61.25 seconds\n",
      "wav=1562340736_0011.wav sample rate:20000, dur:61.25 seconds\n",
      "wav=1562344334_000b.wav sample rate:20000, dur:61.25 seconds\n",
      "wav=1562340736_000a.wav sample rate:20000, dur:61.25 seconds\n",
      "wav=1562340736_001b.wav sample rate:20000, dur:61.25 seconds\n",
      "wav=1562340736_000b.wav sample rate:20000, dur:61.25 seconds\n",
      "wav=1562340736_0016.wav sample rate:20000, dur:61.25 seconds\n",
      "wav=1562340736_0004.wav sample rate:20000, dur:61.25 seconds\n",
      "wav=1562340736_000e.wav sample rate:20000, dur:61.25 seconds\n",
      "wav=1562344334_0008.wav sample rate:20000, dur:61.25 seconds\n",
      "wav=1562344334_0007.wav sample rate:20000, dur:61.25 seconds\n",
      "wav=1562340736_0008.wav sample rate:20000, dur:61.25 seconds\n",
      "wav=1562337136_000e.wav sample rate:20000, dur:61.25 seconds\n",
      "wav=1562344334_000c.wav sample rate:20000, dur:61.25 seconds\n",
      "wav=1562337136_001b.wav sample rate:20000, dur:61.25 seconds\n",
      "wav=1562344334_0004.wav sample rate:20000, dur:61.25 seconds\n",
      "wav=1562344334_000f.wav sample rate:20000, dur:61.25 seconds\n",
      "wav=1562340736_0019.wav sample rate:20000, dur:61.25 seconds\n",
      "wav=1562344334_000e.wav sample rate:20000, dur:61.25 seconds\n",
      "wav=1562340736_0007.wav sample rate:20000, dur:61.25 seconds\n",
      "wav=1562337136_001c.wav sample rate:20000, dur:61.25 seconds\n",
      "wav=1562340736_000d.wav sample rate:20000, dur:61.25 seconds\n",
      "wav=1562340736_0015.wav sample rate:20000, dur:61.25 seconds\n",
      "wav=1562340736_0014.wav sample rate:20000, dur:61.25 seconds\n",
      "wav=1562340736_0005.wav sample rate:20000, dur:61.25 seconds\n",
      "wav=1562337136_0013.wav sample rate:20000, dur:61.25 seconds\n",
      "wav=1562337136_0012.wav sample rate:20000, dur:61.25 seconds\n",
      "wav=1562337136_000c.wav sample rate:20000, dur:61.25 seconds\n",
      "wav=1562337136_0004.wav sample rate:20000, dur:61.25 seconds\n",
      "wav=1562340736_0013.wav sample rate:20000, dur:61.25 seconds\n",
      "wav=1562344334_0001.wav sample rate:20000, dur:61.25 seconds\n",
      "wav=1562337136_0018.wav sample rate:20000, dur:61.25 seconds\n",
      "wav=1562337136_0005.wav sample rate:20000, dur:61.25 seconds\n",
      "wav=1562340736_000f.wav sample rate:20000, dur:61.25 seconds\n",
      "Total count of wav files =57\n"
     ]
    }
   ],
   "source": [
    "total_duration = 0\n",
    "count_files = 0\n",
    "for wav in all_train_dev_wavs:\n",
    "    f = sf.SoundFile(wav)\n",
    "    sample_rate,dur = f.samplerate,len(f)/f.samplerate\n",
    "    print('wav={} sample rate:{}, dur:{} seconds'.format(os.path.basename(wav),sample_rate,dur))\n",
    "    total_duration+=dur\n",
    "    count_files+=1\n",
    "print('Total count of wav files ={}'.format(count_files))"
   ]
  },
  {
   "cell_type": "code",
   "execution_count": 31,
   "metadata": {},
   "outputs": [
    {
     "name": "stdout",
     "output_type": "stream",
     "text": [
      "Total duration of recording 0:58:11.250000\n",
      "Total duration of SRKW calls train 0:12:33.646564\n",
      "Total duration of SRKW calls val 0:02:28.105341\n",
      "Total duration of SRKW calls 0:15:01.751905\n",
      "Approx Ratio postive/negative 1/3\n"
     ]
    }
   ],
   "source": [
    "pos_duration_train = get_positive_duration_r2(train_anno_path)\n",
    "pos_duration_dev = get_positive_duration_r2(dev_anno_path)\n",
    "\n",
    "tot_dur = datetime.timedelta(seconds=total_duration)\n",
    "pos_dur_train  = datetime.timedelta(seconds=pos_duration_train)\n",
    "pos_dur_val  = datetime.timedelta(seconds=pos_duration_dev)\n",
    "print('Total duration of recording {}'.format(tot_dur))\n",
    "print('Total duration of SRKW calls train {}'.format(pos_dur_train))\n",
    "print('Total duration of SRKW calls val {}'.format(pos_dur_val))\n",
    "print('Total duration of SRKW calls {}'.format(pos_dur_train+pos_dur_val))\n",
    "\n",
    "pos_frac = (pos_duration_train+pos_duration_dev)/total_duration\n",
    "neg_frac = 1- pos_frac\n",
    "print('Approx Ratio postive/negative {}'.format(Fraction(pos_frac/neg_frac).limit_denominator(10)))"
   ]
  }
 ],
 "metadata": {
  "kernelspec": {
   "display_name": "Python 3",
   "language": "python",
   "name": "python3"
  },
  "language_info": {
   "codemirror_mode": {
    "name": "ipython",
    "version": 3
   },
   "file_extension": ".py",
   "mimetype": "text/x-python",
   "name": "python",
   "nbconvert_exporter": "python",
   "pygments_lexer": "ipython3",
   "version": "3.5.2"
  }
 },
 "nbformat": 4,
 "nbformat_minor": 4
}
